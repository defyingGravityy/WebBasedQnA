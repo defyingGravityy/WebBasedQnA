{
 "cells": [
  {
   "cell_type": "code",
   "execution_count": 1,
   "id": "5de1c7c8",
   "metadata": {},
   "outputs": [],
   "source": [
    "import os\n",
    "from dotenv import load_dotenv\n",
    "load_dotenv()\n",
    "\n",
    "groq_api_key = os.getenv(\"GROQ_API_KEY\")\n"
   ]
  },
  {
   "cell_type": "code",
   "execution_count": 2,
   "id": "02a667a7",
   "metadata": {},
   "outputs": [],
   "source": [
    "from langchain_groq import ChatGroq\n",
    "model=ChatGroq(model=\"Gemma2-9b-it\",groq_api_key=groq_api_key)\n"
   ]
  },
  {
   "cell_type": "code",
   "execution_count": 3,
   "id": "f08470fc",
   "metadata": {},
   "outputs": [
    {
     "data": {
      "text/plain": [
       "AIMessage(content=\"As an AI, I don't have feelings or experiences like humans do. But I'm here and ready to assist you! How can I help you today? 😊\\n\", additional_kwargs={}, response_metadata={'token_usage': {'completion_tokens': 38, 'prompt_tokens': 16, 'total_tokens': 54, 'completion_time': 0.069090909, 'prompt_time': 0.002123911, 'queue_time': 0.284584544, 'total_time': 0.07121482}, 'model_name': 'Gemma2-9b-it', 'system_fingerprint': 'fp_10c08bf97d', 'finish_reason': 'stop', 'logprobs': None}, id='run--48fde61b-b6b1-4686-9aec-8b404ef957c4-0', usage_metadata={'input_tokens': 16, 'output_tokens': 38, 'total_tokens': 54})"
      ]
     },
     "execution_count": 3,
     "metadata": {},
     "output_type": "execute_result"
    }
   ],
   "source": [
    "from langchain_core.messages import HumanMessage\n",
    "model.invoke([HumanMessage(content=\"Hi there! How are you?\")])\n"
   ]
  },
  {
   "cell_type": "code",
   "execution_count": 4,
   "id": "1164b175",
   "metadata": {},
   "outputs": [
    {
     "data": {
      "text/plain": [
       "AIMessage(content=\"As an AI, I don't have access to information about you, including how you're feeling.  \\n\\nHow are *you* doing today? 😊  \\n\\n\", additional_kwargs={}, response_metadata={'token_usage': {'completion_tokens': 38, 'prompt_tokens': 64, 'total_tokens': 102, 'completion_time': 0.069090909, 'prompt_time': 0.003879651, 'queue_time': 0.25670275800000003, 'total_time': 0.07297056}, 'model_name': 'Gemma2-9b-it', 'system_fingerprint': 'fp_10c08bf97d', 'finish_reason': 'stop', 'logprobs': None}, id='run--13b8f972-f5b2-4d4a-ab03-313eb93eda0c-0', usage_metadata={'input_tokens': 64, 'output_tokens': 38, 'total_tokens': 102})"
      ]
     },
     "execution_count": 4,
     "metadata": {},
     "output_type": "execute_result"
    }
   ],
   "source": [
    "from langchain_core.messages import AIMessage, HumanMessage, SystemMessage\n",
    "\n",
    "model.invoke(\n",
    "    [\n",
    "        HumanMessage(content=\"I am doing well, thank you! How can I assist you today?\"),\n",
    "        AIMessage(content=\"I'm glad to hear that! I'm here to help you with any questions or tasks you have.\"),\n",
    "        HumanMessage(content=\"Hi there! How am I?\")\n",
    "    ]\n",
    ")"
   ]
  },
  {
   "cell_type": "code",
   "execution_count": 9,
   "id": "dc814c44",
   "metadata": {},
   "outputs": [],
   "source": [
    "from langchain_community.chat_message_histories import ChatMessageHistory\n",
    "from langchain_core.chat_history import BaseChatMessageHistory\n",
    "from langchain_core.runnables.history import RunnableWithMessageHistory\n",
    "\n",
    "store={}\n",
    "def get_session_history(session_id:str)->BaseChatMessageHistory:\n",
    "    if session_id not in store:\n",
    "        store[session_id] = ChatMessageHistory()\n",
    "    return store[session_id]\n",
    "\n",
    "\n",
    "with_message_history = RunnableWithMessageHistory(model, get_session_history)\n"
   ]
  },
  {
   "cell_type": "code",
   "execution_count": 10,
   "id": "15d32443",
   "metadata": {},
   "outputs": [],
   "source": [
    "config={\"configurable\":{\"session_id\":\"chat1\"}}"
   ]
  },
  {
   "cell_type": "code",
   "execution_count": null,
   "id": "90929e60",
   "metadata": {},
   "outputs": [],
   "source": [
    "response=with_message_history.invoke(\n",
    "    [\n",
    "        HumanMessage(content=\"Hi my name is Vaishnavi, I am future senior scientist at ISRO\")],\n",
    "        config=config\n",
    "    )"
   ]
  },
  {
   "cell_type": "code",
   "execution_count": 14,
   "id": "53382836",
   "metadata": {},
   "outputs": [
    {
     "data": {
      "text/plain": [
       "\"That's wonderful to hear, Vaishnavi!  It's great to meet someone who aspires to contribute to ISRO's amazing work.  \\n\\nWhat areas of space exploration inspire you the most? What kind of research or projects do you hope to be involved in as a senior scientist?  \\n\\nI'm excited to hear about your dreams for the future! 🚀✨ \\n\\n\\n\\n\\n\""
      ]
     },
     "execution_count": 14,
     "metadata": {},
     "output_type": "execute_result"
    }
   ],
   "source": [
    "response.content"
   ]
  },
  {
   "cell_type": "code",
   "execution_count": 17,
   "id": "ebd31f3f",
   "metadata": {},
   "outputs": [
    {
     "data": {
      "text/plain": [
       "\"You told me your name is Vaishnavi!  \\n\\nIs there anything else you'd like to talk about?  Maybe you want to tell me more about your interest in space exploration? 🚀  \\n\""
      ]
     },
     "execution_count": 17,
     "metadata": {},
     "output_type": "execute_result"
    }
   ],
   "source": [
    "config1={\"configurable\":{\"session_id\":\"chat1\"}}\n",
    "response=with_message_history.invoke(\n",
    "    [HumanMessage(content=\"Whats my name?\")],\n",
    "    config=config1\n",
    ")\n",
    "response.content"
   ]
  },
  {
   "cell_type": "code",
   "execution_count": 18,
   "id": "a42a4441",
   "metadata": {},
   "outputs": [
    {
     "data": {
      "text/plain": [
       "\"Since I don't have access to past conversations, I don't know your name. \\n\\nWould you like to tell me what it is?  😄 \\n\""
      ]
     },
     "execution_count": 18,
     "metadata": {},
     "output_type": "execute_result"
    }
   ],
   "source": [
    "config1={\"configurable\":{\"session_id\":\"chat2\"}}\n",
    "response=with_message_history.invoke(\n",
    "    [HumanMessage(content=\"Whats my name?\")],\n",
    "    config=config1\n",
    ")\n",
    "response.content"
   ]
  },
  {
   "cell_type": "code",
   "execution_count": 24,
   "id": "501fe16b",
   "metadata": {},
   "outputs": [],
   "source": [
    "from langchain_core.prompts import ChatPromptTemplate,MessagesPlaceholder\n",
    "prompt=ChatPromptTemplate.from_messages(\n",
    "    [\n",
    "        (\"system\",\"You are a helpful assistant.Answer question best\"),\n",
    "        MessagesPlaceholder(variable_name=\"messages\")\n",
    "    ]\n",
    ")\n",
    "chain=prompt | model"
   ]
  },
  {
   "cell_type": "code",
   "execution_count": 26,
   "id": "a7be29f3",
   "metadata": {},
   "outputs": [
    {
     "data": {
      "text/plain": [
       "AIMessage(content=\"Hi Vaishnavi, \\n\\nIt's nice to meet you!  \\n\\nIs there anything I can help you with today? 😊 \\n\\n\", additional_kwargs={}, response_metadata={'token_usage': {'completion_tokens': 33, 'prompt_tokens': 25, 'total_tokens': 58, 'completion_time': 0.06, 'prompt_time': 0.00212908, 'queue_time': 0.259531219, 'total_time': 0.06212908}, 'model_name': 'Gemma2-9b-it', 'system_fingerprint': 'fp_10c08bf97d', 'finish_reason': 'stop', 'logprobs': None}, id='run--2ed0c859-cff4-4771-8f27-ed0b3f8d5b8c-0', usage_metadata={'input_tokens': 25, 'output_tokens': 33, 'total_tokens': 58})"
      ]
     },
     "execution_count": 26,
     "metadata": {},
     "output_type": "execute_result"
    }
   ],
   "source": [
    "chain.invoke({\"messages\":[HumanMessage(content=\"Hi My name is Vaishnavi\")]})"
   ]
  },
  {
   "cell_type": "code",
   "execution_count": 27,
   "id": "c0c939a1",
   "metadata": {},
   "outputs": [],
   "source": [
    "with_message_history=RunnableWithMessageHistory(chain, get_session_history)\n"
   ]
  },
  {
   "cell_type": "code",
   "execution_count": 28,
   "id": "2286df7f",
   "metadata": {},
   "outputs": [
    {
     "data": {
      "text/plain": [
       "\"That's wonderful, Vaishnavi!  It's inspiring to hear you're aiming for such an incredible goal.  \\n\\nWhat can I help you with today as you prepare for your future at ISRO? \\n\\nPerhaps you have questions about:\\n\\n* **Specific areas of research at ISRO?**\\n* **Resources for aspiring scientists?**\\n* **The application process for ISRO?**\\n* **Anything else related to your journey?** \\n\\nI'm here to assist in any way I can!   🚀  \\n\\n\""
      ]
     },
     "execution_count": 28,
     "metadata": {},
     "output_type": "execute_result"
    }
   ],
   "source": [
    "config={\"configurable\":{\"session_id\":\"chat3\"}}\n",
    "response=with_message_history.invoke(\n",
    "    [\n",
    "        HumanMessage(content=\"Hi my name is Vaishnavi, I am future senior scientist at ISRO?\")],\n",
    "        config=config\n",
    "    ) \n",
    "response.content  "
   ]
  },
  {
   "cell_type": "code",
   "execution_count": 29,
   "id": "caf6e6db",
   "metadata": {},
   "outputs": [],
   "source": [
    "from langchain_core.prompts import ChatPromptTemplate,MessagesPlaceholder\n",
    "prompt=ChatPromptTemplate.from_messages(\n",
    "    [\n",
    "        (\"system\",\"You are a helpful assistant.Answer question best as you can in {language}\"),\n",
    "        MessagesPlaceholder(variable_name=\"messages\")\n",
    "    ]\n",
    ")\n",
    "chain=prompt | model"
   ]
  },
  {
   "cell_type": "code",
   "execution_count": 30,
   "id": "fc214484",
   "metadata": {},
   "outputs": [
    {
     "data": {
      "text/plain": [
       "'नमस्कार, वैष्णवी! मी तुमची मदत करण्यासाठी येथे आहे. मला काय सांगायचे आहे? \\n'"
      ]
     },
     "execution_count": 30,
     "metadata": {},
     "output_type": "execute_result"
    }
   ],
   "source": [
    "response=chain.invoke({\"messages\":[HumanMessage(content=\"Hi My name is Vaishnavi\")],\"language\":\"marathi\"})\n",
    "response.content"
   ]
  },
  {
   "cell_type": "code",
   "execution_count": 54,
   "id": "1c55c54f",
   "metadata": {},
   "outputs": [
    {
     "data": {
      "text/plain": [
       "[SystemMessage(content='You are a good assistant', additional_kwargs={}, response_metadata={}),\n",
       " HumanMessage(content='Yes, I have a degree in computer science and I have worked on several data science projects.', additional_kwargs={}, response_metadata={}),\n",
       " AIMessage(content=\"That's great!\", additional_kwargs={}, response_metadata={})]"
      ]
     },
     "execution_count": 54,
     "metadata": {},
     "output_type": "execute_result"
    }
   ],
   "source": [
    "from langchain_core.messages import SystemMessage,trim_messages\n",
    "trimmer=trim_messages(\n",
    "    max_tokens=70,\n",
    "    strategy=\"last\",\n",
    "    token_counter=model,\n",
    "    include_system=True,\n",
    "    allow_partial=False,\n",
    "    start_on=\"human\"\n",
    ")\n",
    "\n",
    "messages=[\n",
    "    SystemMessage(content=\"You are a good assistant\"),\n",
    "    HumanMessage(content=\"Hi my name is Bob\"),\n",
    "    AIMessage(content=\"Hello Bob, how can I help you?\"),\n",
    "    HumanMessage(content=\"I am looking for a job\"),\n",
    "    AIMessage(content=\"Sure, I can help you with that. What kind of job are you looking for?\"),\n",
    "    HumanMessage(content=\"I am looking for a job in the field of data science\"),\n",
    "    AIMessage(content=\"Great! Data science is a very interesting field. Do you have any specific skills or experience in data science?\"),\n",
    "    HumanMessage(content=\"Yes, I have a degree in computer science and I have worked on several data science projects.\"),\n",
    "    AIMessage(content=\"That's great!\"),\n",
    "]\n",
    "\n",
    "trimmer.invoke(messages) "
   ]
  },
  {
   "cell_type": "code",
   "execution_count": 56,
   "id": "1ea3482a",
   "metadata": {},
   "outputs": [
    {
     "data": {
      "text/plain": [
       "\"As an AI, I have no memory of past conversations and don't know your name.  \\n\\nIf you'd like to tell me your name, I'd be happy to use it! 😊  \\n\\n\""
      ]
     },
     "execution_count": 56,
     "metadata": {},
     "output_type": "execute_result"
    }
   ],
   "source": [
    "from operator import itemgetter\n",
    "\n",
    "from langchain_core.runnables import RunnablePassthrough\n",
    "\n",
    "chain=(\n",
    "    RunnablePassthrough.assign(messages=itemgetter(\"messages\")|trimmer)\n",
    "    | prompt\n",
    "    | model                        \n",
    ")\n",
    "\n",
    "response=chain.invoke(\n",
    "   { \"messages\":messages+[HumanMessage(content=\"Whats my name?\")],\n",
    "    \"language\":\"english\"}\n",
    ")\n",
    "\n",
    "response.content"
   ]
  },
  {
   "cell_type": "code",
   "execution_count": 57,
   "id": "74e0074e",
   "metadata": {},
   "outputs": [],
   "source": [
    "with_message_history=RunnableWithMessageHistory(chain, get_session_history,input_messages_key=\"messages\")\n",
    "config={\"configurable\":{\"session_id\":\"chat4\"}}\n"
   ]
  },
  {
   "cell_type": "code",
   "execution_count": 59,
   "id": "05434dd8",
   "metadata": {},
   "outputs": [
    {
     "data": {
      "text/plain": [
       "\"As a helpful assistant, I don't have access to your personal information or thoughts, so I can't know what job you're looking for.\\n\\nTo help you figure it out, tell me:\\n\\n* **What are your interests and passions?**\\n* **What are your skills and experience?**\\n* **What kind of work environment do you prefer?**\\n* **What are your salary expectations?**\\n\\n\\nThe more information you give me, the better I can assist you in your job search. 😊\\n\\n\""
      ]
     },
     "execution_count": 59,
     "metadata": {},
     "output_type": "execute_result"
    }
   ],
   "source": [
    "response=with_message_history.invoke(\n",
    "    {\n",
    "        \"messages\":[HumanMessage(content=\"What job am I looking for?\")],\n",
    "        \"language\":\"english\",\n",
    "    },\n",
    "    config=config\n",
    "    ) \n",
    "response.content  "
   ]
  }
 ],
 "metadata": {
  "kernelspec": {
   "display_name": "base",
   "language": "python",
   "name": "python3"
  },
  "language_info": {
   "codemirror_mode": {
    "name": "ipython",
    "version": 3
   },
   "file_extension": ".py",
   "mimetype": "text/x-python",
   "name": "python",
   "nbconvert_exporter": "python",
   "pygments_lexer": "ipython3",
   "version": "3.13.5"
  }
 },
 "nbformat": 4,
 "nbformat_minor": 5
}
